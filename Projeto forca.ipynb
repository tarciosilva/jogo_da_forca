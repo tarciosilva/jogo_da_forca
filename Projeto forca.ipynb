{
 "cells": [
  {
   "cell_type": "markdown",
   "metadata": {
    "id": "TwbDxrN1bF-i"
   },
   "source": [
    "# Projeto Lógica de programação II\n",
    "\n",
    "## Jogo da forca\n",
    "\n",
    "Nome: Tarcio Pereira da Silva\n",
    "\n",
    "Turma: <<Diversidade Tech - 889\n"
   ]
  },
  {
   "cell_type": "markdown",
   "metadata": {
    "id": "Z15O64dQbXbQ"
   },
   "source": [
    "Nesse projeto iremos focar no conhecimento adquirido durante os módulos de lógica de programação I e II.\n",
    "\n",
    "Utilizaremos as estruturas de dados (tuplas, listas, dicionários) além da lógica de programação (if/else, while, e for), lembre-se das compreensões de listas e dicionários. E utilize as técnicas e algoritmos que achar necessário para realizar o projeto"
   ]
  },
  {
   "cell_type": "markdown",
   "metadata": {
    "id": "iqZTv5eRbyWe"
   },
   "source": [
    "### Dados\n",
    "\n",
    "Será utilizado os dados (dataset) de frutas (`frutas.txt`) disponível em um arquivo separado.\n",
    "\n",
    "Nesse arquivo, cada linha representa uma palavra correspondente a uma fruta distinta."
   ]
  },
  {
   "cell_type": "markdown",
   "metadata": {
    "id": "5rXybo_2cDdo"
   },
   "source": [
    "### O problema\n",
    "\n",
    "Nesse projeto você deverá desenvolver um programa que permita aceitar ações da pessoa usuária (`input`).\n",
    "\n",
    "Nesse processo, o programa deve selecionar uma palavra aleatória do arquivo `frutas.txt`.\n",
    "\n",
    "A partir da palavra aleatória, crie um jogo da forca, em que a pessoa usuária pode inserir um caracter, e se tiver acerto, a palavra será preenchida. Em caso de erro, será retirada uma \"vida\" da pessoa usuária e o desenho da pessoa na forca deve ser preenchida.\n",
    "\n",
    "Na tela, teremos:\n",
    "- Desenho da forca\n",
    "- Letras já escolhidas\n",
    "- Uma linha mostrando a palavra.\n",
    "  - No inicio cada letra da palavra a ser adivinhada é representada com `_`\n",
    "  - Ao acertar a letra presente na palavra, as posições referentes a essa letra serão substituidas e mostrada para a pessoa usuária.\n",
    "\n",
    "Para auxiliar no desenvolvimento, podemos dividir o projeto nas seguintes fases:\n",
    "- Escolha da palavra aleatória\n",
    "- Representar essa palavra com `_`\n",
    "- Ao acertar uma letra substituir o `_` pela letra nas posições corretas\n",
    "- Ao chegar no máximo de erros, encerrar o jogo\n",
    "- Ao acetar a palavra, finalizar o jogo\n",
    "- Ao errar uma letra, apresentar essas para a pessoa usuária\n",
    "- Ao errar uma letra, modificar o desenho da forca\n",
    "\n",
    "### Critérios de avaliação\n",
    "\n",
    "Os seguintes itens serão avaliados:\n",
    "\n",
    "1. Reprodutibilidade do código: seu código será executado e precisa gerar os mesmos resultados apresentados por você;\n",
    "\n",
    "2. Clareza: seu código precisa ser claro e deve existir uma linha de raciocínio direta. Comente o código em pontos que julgar necessário para o entendimento total;\n",
    "\n",
    "3. Utilize funções para melhorar a clareza do código!\n",
    "\n",
    "\n",
    "### Informações gerais\n",
    "\n",
    "- O projeto pode ser desenvolvido individualmente ou em grupo\n",
    "\n",
    "- Entrega através do class.\n",
    "\n",
    "Anexar, na entrega, o código (notebook ou script python) desenvolvido.\n"
   ]
  },
  {
   "cell_type": "markdown",
   "metadata": {},
   "source": [
    "### draw sample"
   ]
  },
  {
   "cell_type": "code",
   "execution_count": 1,
   "metadata": {
    "id": "dVbfca_tbx1B"
   },
   "outputs": [],
   "source": [
    "erro_0 = \"\"\"\n",
    "   |-------\n",
    "   |      |\n",
    "   |    \n",
    "   |    \n",
    "   |    \n",
    "   |     \n",
    "   |     \n",
    "___|___ \n",
    "\"\"\"\n",
    "erro_1 = \"\"\"\n",
    "   |-------\n",
    "   |      |\n",
    "   |      _\n",
    "   |     |_|\n",
    "   |      \n",
    "   |     \n",
    "   |     \n",
    "___|___ \n",
    "\"\"\"\n",
    "\n",
    "erro_2 = (\"\"\"\n",
    "   |-------\n",
    "   |      |\n",
    "   |      _\n",
    "   |     |_|\n",
    "   |      |\n",
    "   |      |\n",
    "   |     \n",
    "___|___ \n",
    "\"\"\")\n",
    "\n",
    "erro_3 = (\"\"\"\n",
    "   |-------\n",
    "   |      |\n",
    "   |      _\n",
    "   |     |_|\n",
    "   |    --|\n",
    "   |      |\n",
    "   |     \n",
    "___|___ \n",
    "\"\"\")\n",
    "\n",
    "erro_4 = (\"\"\"\n",
    "   |-------\n",
    "   |      |\n",
    "   |      _\n",
    "   |     |_|\n",
    "   |    --|--\n",
    "   |      |\n",
    "   |     \n",
    "___|___ \n",
    "\"\"\")\n",
    "\n",
    "erro_5 = (\"\"\"\n",
    "   |-------\n",
    "   |      |\n",
    "   |      _\n",
    "   |     |_|\n",
    "   |    --|--\n",
    "   |      |\n",
    "   |     / \n",
    "___|___ \n",
    "\"\"\")\n",
    "\n",
    "erro_6 = (\"\"\"\n",
    "   |-------\n",
    "   |      |\n",
    "   |      _\n",
    "   |     |_|\n",
    "   |    --|--\n",
    "   |      |\n",
    "   |     / \\\\\n",
    "___|___ \n",
    "\"\"\")"
   ]
  },
  {
   "cell_type": "markdown",
   "metadata": {},
   "source": [
    "### imports"
   ]
  },
  {
   "cell_type": "code",
   "execution_count": 2,
   "metadata": {},
   "outputs": [],
   "source": [
    "from os import name, system\n",
    "from IPython.display import clear_output as clear\n",
    "from random import choice as ch\n",
    "from copy import deepcopy as dc"
   ]
  },
  {
   "cell_type": "markdown",
   "metadata": {},
   "source": [
    "### functions"
   ]
  },
  {
   "cell_type": "code",
   "execution_count": 3,
   "metadata": {
    "id": "pF7_5BrJ6qO7"
   },
   "outputs": [],
   "source": [
    "def desenhe_forca(erro: int) -> tuple:\n",
    "    erros = (erro_0, erro_1, erro_2, erro_3,\n",
    "            erro_4, erro_5, erro_6)\n",
    "    try:\n",
    "        return erros[erro]\n",
    "    except IndexError:\n",
    "        print(f'O índice passado ({erro}) excede o tamanho da lista (0 a {len(erros) - 1})!')\n",
    "    except TypeError:\n",
    "        print('O índice deve ser um número inteiro!')\n",
    "    except Exception:\n",
    "        print('Erro desconehcido...')"
   ]
  },
  {
   "cell_type": "code",
   "execution_count": 4,
   "metadata": {},
   "outputs": [],
   "source": [
    "def carregue_arquivo():\n",
    "    try:\n",
    "        with open('frutas.txt', 'r', encoding = 'utf-8') as frutas_txt:\n",
    "            frutas = [fruta.removesuffix('\\n') for fruta in frutas_txt if fruta.removesuffix('\\n') != '']\n",
    "        return frutas\n",
    "    except IOError:\n",
    "        print('Arquivo \"frutas.txt\" não encontrado na pasta do programa...')\n",
    "    \n",
    "    "
   ]
  },
  {
   "cell_type": "code",
   "execution_count": 5,
   "metadata": {},
   "outputs": [],
   "source": [
    "def escolhe_fruta(frutas: list) -> str:\n",
    "    frutas_copia = frutas\n",
    "    return ch(frutas_copia)"
   ]
  },
  {
   "cell_type": "code",
   "execution_count": 23,
   "metadata": {},
   "outputs": [],
   "source": [
    "def play():\n",
    "    sim = ['s', 'sim', 'y', 'yes']\n",
    "    nao = ['n', 'não', 'not']\n",
    "    jogar = False\n",
    "    while not jogar:\n",
    "        clear()\n",
    "        print('\\t\\t\\t\\t\\tBEM-VINDO AO JOGO DA FORCA!\\n\\n')\n",
    "        jogar = input('Deseja iniciar o jogo (sim/s/yes/y) ou (não/n/not)? ')\n",
    "        if jogar.lower() in nao:\n",
    "            break\n",
    "        elif jogar.lower() in sim:\n",
    "            clear()\n",
    "            game_over = False\n",
    "            frutas = carregue_arquivo()\n",
    "            fruta_aleatoria = escolhe_fruta(frutas)\n",
    "            letra = ''\n",
    "            erros = 0\n",
    "            acertos = 0\n",
    "            print('Acerte todas as letras da palavra para não ser enforcado! Dica: é uma \"fruta\"!')\n",
    "            print(desenhe_forca(erros))\n",
    "            sample = ''.join(['_' for letra in fruta_aleatoria])\n",
    "            sample_lista = list(sample)\n",
    "            \n",
    "            while not game_over:\n",
    "                acerto = False\n",
    "                imprime_sample = ''.join(letra for letra in sample_lista)\n",
    "                if fruta_aleatoria == imprime_sample:\n",
    "                    print('PARABÉNS!!! VOCÊ NÃO FOI ENFORCADO!!!')\n",
    "                    print(f'A palavra advinhada foi \"{fruta_aleatoria}\"!')\n",
    "                    input(\"Pressione <enter> para continuar\")\n",
    "                    game_over = True\n",
    "                    jogar = False\n",
    "                else:\n",
    "                    print(imprime_sample)\n",
    "                    print(f'\\n\\nSCORE\\nAcertos: {acertos}\\nErros: {erros}')\n",
    "                    resposta = input()\n",
    "                    clear()\n",
    "                    print('Acerte todas as letras da palavra para não ser enforcado! Dica: é uma \"fruta\"!')\n",
    "                    print(desenhe_forca(erros))\n",
    "                    for letra in range(len(fruta_aleatoria)):\n",
    "                        if fruta_aleatoria[letra] == resposta:\n",
    "                            sample_lista[letra] = resposta\n",
    "                            acerto = True\n",
    "                            acertos += 1\n",
    "                if not acerto:\n",
    "                    erros += 1\n",
    "                    clear()\n",
    "                    print(desenhe_forca(erros))\n",
    "                    if erros == 6:\n",
    "                        print('\\t\\t\\t\\t\\tGAME OVER!!!')\n",
    "                        input(\"Pressione <enter> para continuar\")\n",
    "                        game_over = True\n",
    "                        jogar = False\n",
    "                    else:\n",
    "                        pass\n",
    "        else:\n",
    "            clear()\n",
    "            print('Opção inválida!')\n",
    "            jogar = False\n",
    "            input(\"Pressione <enter> para continuar\")\n",
    "            \n",
    "            \n",
    "     "
   ]
  },
  {
   "cell_type": "code",
   "execution_count": 24,
   "metadata": {},
   "outputs": [
    {
     "name": "stdout",
     "output_type": "stream",
     "text": [
      "\n",
      "   |-------\n",
      "   |      |\n",
      "   |      _\n",
      "   |     |_|\n",
      "   |    --|--\n",
      "   |      |\n",
      "   |     \n",
      "___|___ \n",
      "\n",
      "cupua_u\n",
      "\n",
      "\n",
      "SCORE\n",
      "Acertos: 6\n",
      "Erros: 4\n"
     ]
    },
    {
     "ename": "KeyboardInterrupt",
     "evalue": "Interrupted by user",
     "output_type": "error",
     "traceback": [
      "\u001b[1;31m---------------------------------------------------------------------------\u001b[0m",
      "\u001b[1;31mKeyboardInterrupt\u001b[0m                         Traceback (most recent call last)",
      "Input \u001b[1;32mIn [24]\u001b[0m, in \u001b[0;36m<cell line: 1>\u001b[1;34m()\u001b[0m\n\u001b[1;32m----> 1\u001b[0m \u001b[43mplay\u001b[49m\u001b[43m(\u001b[49m\u001b[43m)\u001b[49m\n",
      "Input \u001b[1;32mIn [23]\u001b[0m, in \u001b[0;36mplay\u001b[1;34m()\u001b[0m\n\u001b[0;32m     34\u001b[0m \u001b[38;5;28mprint\u001b[39m(imprime_sample)\n\u001b[0;32m     35\u001b[0m \u001b[38;5;28mprint\u001b[39m(\u001b[38;5;124mf\u001b[39m\u001b[38;5;124m'\u001b[39m\u001b[38;5;130;01m\\n\u001b[39;00m\u001b[38;5;130;01m\\n\u001b[39;00m\u001b[38;5;124mSCORE\u001b[39m\u001b[38;5;130;01m\\n\u001b[39;00m\u001b[38;5;124mAcertos: \u001b[39m\u001b[38;5;132;01m{\u001b[39;00macertos\u001b[38;5;132;01m}\u001b[39;00m\u001b[38;5;130;01m\\n\u001b[39;00m\u001b[38;5;124mErros: \u001b[39m\u001b[38;5;132;01m{\u001b[39;00merros\u001b[38;5;132;01m}\u001b[39;00m\u001b[38;5;124m'\u001b[39m)\n\u001b[1;32m---> 36\u001b[0m resposta \u001b[38;5;241m=\u001b[39m \u001b[38;5;28;43minput\u001b[39;49m\u001b[43m(\u001b[49m\u001b[43m)\u001b[49m\n\u001b[0;32m     37\u001b[0m clear()\n\u001b[0;32m     38\u001b[0m \u001b[38;5;28mprint\u001b[39m(\u001b[38;5;124m'\u001b[39m\u001b[38;5;124mAcerte todas as letras da palavra para não ser enforcado! Dica: é uma \u001b[39m\u001b[38;5;124m\"\u001b[39m\u001b[38;5;124mfruta\u001b[39m\u001b[38;5;124m\"\u001b[39m\u001b[38;5;124m!\u001b[39m\u001b[38;5;124m'\u001b[39m)\n",
      "File \u001b[1;32m~\\anaconda3\\lib\\site-packages\\ipykernel\\kernelbase.py:1075\u001b[0m, in \u001b[0;36mKernel.raw_input\u001b[1;34m(self, prompt)\u001b[0m\n\u001b[0;32m   1071\u001b[0m \u001b[38;5;28;01mif\u001b[39;00m \u001b[38;5;129;01mnot\u001b[39;00m \u001b[38;5;28mself\u001b[39m\u001b[38;5;241m.\u001b[39m_allow_stdin:\n\u001b[0;32m   1072\u001b[0m     \u001b[38;5;28;01mraise\u001b[39;00m StdinNotImplementedError(\n\u001b[0;32m   1073\u001b[0m         \u001b[38;5;124m\"\u001b[39m\u001b[38;5;124mraw_input was called, but this frontend does not support input requests.\u001b[39m\u001b[38;5;124m\"\u001b[39m\n\u001b[0;32m   1074\u001b[0m     )\n\u001b[1;32m-> 1075\u001b[0m \u001b[38;5;28;01mreturn\u001b[39;00m \u001b[38;5;28;43mself\u001b[39;49m\u001b[38;5;241;43m.\u001b[39;49m\u001b[43m_input_request\u001b[49m\u001b[43m(\u001b[49m\n\u001b[0;32m   1076\u001b[0m \u001b[43m    \u001b[49m\u001b[38;5;28;43mstr\u001b[39;49m\u001b[43m(\u001b[49m\u001b[43mprompt\u001b[49m\u001b[43m)\u001b[49m\u001b[43m,\u001b[49m\n\u001b[0;32m   1077\u001b[0m \u001b[43m    \u001b[49m\u001b[38;5;28;43mself\u001b[39;49m\u001b[38;5;241;43m.\u001b[39;49m\u001b[43m_parent_ident\u001b[49m\u001b[43m[\u001b[49m\u001b[38;5;124;43m\"\u001b[39;49m\u001b[38;5;124;43mshell\u001b[39;49m\u001b[38;5;124;43m\"\u001b[39;49m\u001b[43m]\u001b[49m\u001b[43m,\u001b[49m\n\u001b[0;32m   1078\u001b[0m \u001b[43m    \u001b[49m\u001b[38;5;28;43mself\u001b[39;49m\u001b[38;5;241;43m.\u001b[39;49m\u001b[43mget_parent\u001b[49m\u001b[43m(\u001b[49m\u001b[38;5;124;43m\"\u001b[39;49m\u001b[38;5;124;43mshell\u001b[39;49m\u001b[38;5;124;43m\"\u001b[39;49m\u001b[43m)\u001b[49m\u001b[43m,\u001b[49m\n\u001b[0;32m   1079\u001b[0m \u001b[43m    \u001b[49m\u001b[43mpassword\u001b[49m\u001b[38;5;241;43m=\u001b[39;49m\u001b[38;5;28;43;01mFalse\u001b[39;49;00m\u001b[43m,\u001b[49m\n\u001b[0;32m   1080\u001b[0m \u001b[43m\u001b[49m\u001b[43m)\u001b[49m\n",
      "File \u001b[1;32m~\\anaconda3\\lib\\site-packages\\ipykernel\\kernelbase.py:1120\u001b[0m, in \u001b[0;36mKernel._input_request\u001b[1;34m(self, prompt, ident, parent, password)\u001b[0m\n\u001b[0;32m   1117\u001b[0m             \u001b[38;5;28;01mbreak\u001b[39;00m\n\u001b[0;32m   1118\u001b[0m \u001b[38;5;28;01mexcept\u001b[39;00m \u001b[38;5;167;01mKeyboardInterrupt\u001b[39;00m:\n\u001b[0;32m   1119\u001b[0m     \u001b[38;5;66;03m# re-raise KeyboardInterrupt, to truncate traceback\u001b[39;00m\n\u001b[1;32m-> 1120\u001b[0m     \u001b[38;5;28;01mraise\u001b[39;00m \u001b[38;5;167;01mKeyboardInterrupt\u001b[39;00m(\u001b[38;5;124m\"\u001b[39m\u001b[38;5;124mInterrupted by user\u001b[39m\u001b[38;5;124m\"\u001b[39m) \u001b[38;5;28;01mfrom\u001b[39;00m \u001b[38;5;28mNone\u001b[39m\n\u001b[0;32m   1121\u001b[0m \u001b[38;5;28;01mexcept\u001b[39;00m \u001b[38;5;167;01mException\u001b[39;00m:\n\u001b[0;32m   1122\u001b[0m     \u001b[38;5;28mself\u001b[39m\u001b[38;5;241m.\u001b[39mlog\u001b[38;5;241m.\u001b[39mwarning(\u001b[38;5;124m\"\u001b[39m\u001b[38;5;124mInvalid Message:\u001b[39m\u001b[38;5;124m\"\u001b[39m, exc_info\u001b[38;5;241m=\u001b[39m\u001b[38;5;28;01mTrue\u001b[39;00m)\n",
      "\u001b[1;31mKeyboardInterrupt\u001b[0m: Interrupted by user"
     ]
    }
   ],
   "source": [
    "play()"
   ]
  }
 ],
 "metadata": {
  "colab": {
   "authorship_tag": "ABX9TyPI43boujjiseuYQtfUZv8O",
   "collapsed_sections": [],
   "provenance": []
  },
  "kernelspec": {
   "display_name": "Python 3 (ipykernel)",
   "language": "python",
   "name": "python3"
  },
  "language_info": {
   "codemirror_mode": {
    "name": "ipython",
    "version": 3
   },
   "file_extension": ".py",
   "mimetype": "text/x-python",
   "name": "python",
   "nbconvert_exporter": "python",
   "pygments_lexer": "ipython3",
   "version": "3.9.12"
  }
 },
 "nbformat": 4,
 "nbformat_minor": 1
}
